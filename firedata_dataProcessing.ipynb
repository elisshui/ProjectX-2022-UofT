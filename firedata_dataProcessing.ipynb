{
 "cells": [
  {
   "cell_type": "code",
   "execution_count": 2,
   "metadata": {},
   "outputs": [],
   "source": [
    "# importing libraries\n",
    "import pandas as pd"
   ]
  },
  {
   "cell_type": "code",
   "execution_count": 3,
   "metadata": {},
   "outputs": [
    {
     "name": "stdout",
     "output_type": "stream",
     "text": [
      "   Unnamed: 0      FIRE_ID  LATITUDE  LONGITUDE  YEAR  MONTH  DAY  SIZE_HA\n",
      "0           1  1953-G00041    59.963   -128.172  1953      5   26      8.0\n",
      "1           2  1950-R00028    59.318   -132.172  1950      6   22      8.0\n",
      "2           3  1950-G00026    59.876   -131.922  1950      6    4  12949.9\n",
      "3           4  1951-R00097    59.760   -132.808  1951      7   15    241.1\n",
      "4           5  1952-G00116    59.434   -126.172  1952      6   12      1.2\n"
     ]
    }
   ],
   "source": [
    "# import data set and convert to dataframe\n",
    "fire_data = pd.read_csv(\"BC_fire_data.csv\")\n",
    "fire_data_df = pd.DataFrame(fire_data)\n",
    "print(fire_data_df.head(5))"
   ]
  },
  {
   "cell_type": "code",
   "execution_count": null,
   "metadata": {},
   "outputs": [],
   "source": []
  }
 ],
 "metadata": {
  "kernelspec": {
   "display_name": "Python 3.9.5 64-bit",
   "language": "python",
   "name": "python3"
  },
  "language_info": {
   "codemirror_mode": {
    "name": "ipython",
    "version": 3
   },
   "file_extension": ".py",
   "mimetype": "text/x-python",
   "name": "python",
   "nbconvert_exporter": "python",
   "pygments_lexer": "ipython3",
   "version": "3.9.5"
  },
  "orig_nbformat": 4,
  "vscode": {
   "interpreter": {
    "hash": "099c61ee22483bbd1374bc1b4f9eb88a902daa72d8017615877b6cb3b2629d9c"
   }
  }
 },
 "nbformat": 4,
 "nbformat_minor": 2
}
